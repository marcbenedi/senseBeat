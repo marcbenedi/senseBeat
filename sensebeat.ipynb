{
 "cells": [
  {
   "cell_type": "code",
   "execution_count": 1,
   "metadata": {},
   "outputs": [],
   "source": [
    "import pandas as pd\n",
    "import numpy as np"
   ]
  },
  {
   "cell_type": "code",
   "execution_count": 2,
   "metadata": {},
   "outputs": [],
   "source": [
    "data = pd.read_csv(\"Default.csv\",header=None)"
   ]
  },
  {
   "cell_type": "code",
   "execution_count": 3,
   "metadata": {},
   "outputs": [
    {
     "data": {
      "text/plain": [
       "0    -62.128096\n",
       "1     -6.346712\n",
       "2   -137.540564\n",
       "3    -12.994022\n",
       "4     10.713066\n",
       "dtype: float64"
      ]
     },
     "execution_count": 3,
     "metadata": {},
     "output_type": "execute_result"
    }
   ],
   "source": [
    "data.mean()"
   ]
  },
  {
   "cell_type": "code",
   "execution_count": 4,
   "metadata": {},
   "outputs": [],
   "source": [
    "acc_data = data.iloc[:,:3]\n",
    "#processed = ((acc_data - acc_data.mean())/acc_data.std()).round()\n",
    "labels_def = np.zeros(len(acc_data))"
   ]
  },
  {
   "cell_type": "code",
   "execution_count": 5,
   "metadata": {},
   "outputs": [
    {
     "data": {
      "text/plain": [
       "264"
      ]
     },
     "execution_count": 5,
     "metadata": {},
     "output_type": "execute_result"
    }
   ],
   "source": [
    "mov_data = pd.read_csv(\"1D.csv\",header=None).iloc[:,:3]\n",
    "labels_mov=np.ones(len(mov_data))\n",
    "len(mov_data)"
   ]
  },
  {
   "cell_type": "code",
   "execution_count": 6,
   "metadata": {},
   "outputs": [],
   "source": [
    "data = np.concatenate([acc_data,mov_data])\n",
    "labels = np.concatenate([labels_def,labels_mov])"
   ]
  },
  {
   "cell_type": "code",
   "execution_count": 7,
   "metadata": {},
   "outputs": [],
   "source": [
    "shuffle_array = np.arange(len(data))\n",
    "np.random.shuffle(shuffle_array)"
   ]
  },
  {
   "cell_type": "code",
   "execution_count": 8,
   "metadata": {},
   "outputs": [],
   "source": [
    "data_shuf = data[shuffle_array]\n",
    "label_shuf = labels[shuffle_array]"
   ]
  },
  {
   "cell_type": "code",
   "execution_count": 9,
   "metadata": {},
   "outputs": [
    {
     "data": {
      "text/plain": [
       "array([   64,    16,  -188, ...,    20, -1116,  -112])"
      ]
     },
     "execution_count": 9,
     "metadata": {},
     "output_type": "execute_result"
    }
   ],
   "source": [
    "data_shuf[:,1]"
   ]
  },
  {
   "cell_type": "code",
   "execution_count": 10,
   "metadata": {},
   "outputs": [
    {
     "name": "stdout",
     "output_type": "stream",
     "text": [
      "143 120\n"
     ]
    }
   ],
   "source": [
    "plus_mov=0\n",
    "neg_mov=0\n",
    "for i in range(len(data_shuf)):\n",
    "    if data_shuf[:,1][i] <= -150:\n",
    "        neg_mov+=1\n",
    "        label_shuf[i]=2\n",
    "    elif data_shuf[:,1][i] > 150:\n",
    "        plus_mov+=1\n",
    "print(neg_mov,plus_mov)"
   ]
  },
  {
   "cell_type": "code",
   "execution_count": 11,
   "metadata": {},
   "outputs": [],
   "source": [
    "from sklearn.model_selection import train_test_split"
   ]
  },
  {
   "cell_type": "code",
   "execution_count": 12,
   "metadata": {},
   "outputs": [],
   "source": [
    "X_train, X_test, y_train, y_test = train_test_split(data_shuf, label_shuf, test_size=0.1)"
   ]
  },
  {
   "cell_type": "code",
   "execution_count": 13,
   "metadata": {},
   "outputs": [
    {
     "data": {
      "text/plain": [
       "KNeighborsClassifier(algorithm='auto', leaf_size=30, metric='minkowski',\n",
       "                     metric_params=None, n_jobs=None, n_neighbors=5, p=2,\n",
       "                     weights='uniform')"
      ]
     },
     "execution_count": 13,
     "metadata": {},
     "output_type": "execute_result"
    }
   ],
   "source": [
    "from sklearn.neighbors import KNeighborsClassifier\n",
    "classifier = KNeighborsClassifier(n_neighbors=5)\n",
    "classifier.fit(X_train, y_train)"
   ]
  },
  {
   "cell_type": "code",
   "execution_count": 14,
   "metadata": {},
   "outputs": [],
   "source": [
    "y_pred = classifier.predict(X_test)"
   ]
  },
  {
   "cell_type": "code",
   "execution_count": 15,
   "metadata": {},
   "outputs": [
    {
     "data": {
      "text/plain": [
       "0.9930555555555556"
      ]
     },
     "execution_count": 15,
     "metadata": {},
     "output_type": "execute_result"
    }
   ],
   "source": [
    "acc = np.count_nonzero(y_pred == y_test)/len(y_pred)\n",
    "acc"
   ]
  },
  {
   "cell_type": "code",
   "execution_count": 5,
   "metadata": {},
   "outputs": [
    {
     "name": "stdout",
     "output_type": "stream",
     "text": [
      "  5112, -1880,  -572,   -23,    26,    42;\n",
      "  5312, -1992,  -624,    37,    -1,     0;\n",
      "  5088, -2060,  -624,    -4,    15,   -15;\n",
      "  5248, -1944,  -660,    40,     0,   -22;\n",
      "  5216, -2112,  -616,    17,    15,    19;\n",
      "  5308, -2092,  -576,   -31,    16,    -1;\n",
      "  5216, -1936,  -700,     2,    21,     3;\n",
      "  5192, -2052,  -628,    30,     8,   -11;\n",
      "  5160, -2000,  -556,   -71,     3,    38;\n",
      "  5092, -1892,  -672,   -49,    31,    25;\n",
      "\n",
      "  5392, -2024,  -792,   -12,    16,     8;\n",
      "  5200, -2028,  -524,     0,   -20,     5;\n",
      "  5112, -2096,  -688,    17,    24,    11;\n",
      "  5228, -2048,  -488,   -22,    25,    24;\n",
      "  5252, -2008,  -556,    -5,    -3,    -1;\n",
      "  5244, -2048,  -512,    65,    20,     0;\n",
      "  5092, -2100,  -576,   -21,    43,     2;\n",
      "  5112, -2048,  -676,   -51,    -2,    31;\n",
      "  5272, -1960,  -700,   -19,     6,    24;\n",
      "  5216, -1988,  -596,     8,     8,    19;\n",
      "\n",
      "  5052, -1916,  -644,   -12,    -1,    39;\n",
      "  5184, -1944,  -640,     8,    12,     0;\n",
      "  5252, -2056,  -664,    33,    -3,    14;\n",
      "  5148, -2104,  -528,    22,    17,    13;\n",
      "  5268, -2040,  -664,   -11,    10,   -18;\n",
      "  5088, -1940,  -692,    56,    24,   -17;\n",
      "  5264, -2080,  -572,    25,    48,     1;\n",
      "  5104, -2048,  -540,   -11,    17,    11;\n",
      "  5276, -2060,  -680,    26,    13,    30;\n",
      "  5184, -2056,  -692,   -1\n",
      "  5228, -1972,  -676,   -44,    13,   -10;\n",
      "  5128, -2024,  -748,   -21,     5,     9;\n",
      "  5164, -1944,  -608,   -42,     1,    32;\n",
      "  5136, -2060,  -644,    23,     8,    15;\n",
      "  5432, -1904,  -572,  -188,    -9,   110;\n",
      "  5168, -1944,  -488,   -25,    31,   -13;\n",
      "  5128, -1984,  -652,   -21,   -31,    25;\n",
      "  5212, -1948,  -536,   -36,    18,    23;\n",
      "  5112, -1972,  -704,   -51,     1,     6;\n",
      "  5108, -2008,  -724,    11,    14,   -2\n",
      "  5116, -1964,  -548,    11,    31,    12;\n",
      "  5116, -2088,  -532,   -39,    20,    24;\n",
      "  5268, -1932,  -592,   -19,     6,     5;\n",
      "  5308, -1972,  -612,    15,    -8,    18;\n",
      "  5188, -2048,  -592,     6,    21,    29;\n",
      "  5256, -2088,  -692,   -34,    38,     0;\n",
      "  5104, -2000,  -604,   -17,    21,   -13;\n",
      "  5160, -1988,  -596,    14,     2,    20;\n",
      "  5288, -2020,  -640,   -16,    33,    14;\n",
      "  5160, -1992,  -624,    20, \n",
      "  5172, -2072,  -716,     9,    19,    -8;\n",
      "  5188, -2044,  -580,    -3,    21,     0;\n",
      "  5160, -2024,  -572,     0,    14,     4;\n",
      "  5084, -1960,  -656,     7,     7,   -13;\n",
      "  5336, -2120,  -656,    20,    29,    19;\n",
      "  5228, -2040,  -680,   -20,    27,    14;\n",
      "  5296, -2056,  -660,    -1,    29,    -2;\n",
      "  5128, -2144,  -632,   -10,    -4,   -16;\n",
      "  5192, -2036,  -596,     9,    -3,   -26;\n",
      "  5160, -1956,  -\n",
      "  5100, -2112,  -628,    26,    38,   -11;\n",
      "  5256, -2004,  -600,   -65,   -21,    35;\n",
      "  5192, -2032,  -716,    11,    14,    11;\n",
      "  5116, -1988,  -608,    15,    16,     8;\n",
      "  5084, -2184,  -640,    62,    12,   -10;\n",
      "  5196, -2144,  -776,    36,    12,   -16;\n",
      "  5152, -2024,  -668,     6,     7,    -6;\n",
      "  5088, -2136,  -808,    24,    -3,    -6;\n",
      "  5292, -2052,  -624,   -17,    50,    11;\n",
      "  5240\n",
      "  5132, -2100,  -740,    28,    20,    14;\n",
      "  5276, -2000,  -604,   -37,    -3,    27;\n",
      "  5276, -2076,  -560,    -6,    15,    30;\n",
      "  5172, -2176,  -716,    -7,    39,     5;\n",
      "  5180, -2060,  -620,    12,    -8,    18;\n",
      "  5204, -2044,  -736,    -8,    24,    19;\n",
      "  5252, -1996,  -612,   -48,     9,    35;\n",
      "  5268, -2040,  -568,    37,    17,   -13;\n",
      "  5268, -1988,  -628,   -15,    19,     1;\n",
      "  5204, -1972,  -648,   -10,    40,    -3;\n",
      "\n"
     ]
    },
    {
     "ename": "KeyboardInterrupt",
     "evalue": "",
     "output_type": "error",
     "traceback": [
      "\u001b[0;31m-------------------------------------------------------------------------\u001b[0m",
      "\u001b[0;31mKeyboardInterrupt\u001b[0m                       Traceback (most recent call last)",
      "\u001b[0;32m<ipython-input-5-ac61824206a1>\u001b[0m in \u001b[0;36m<module>\u001b[0;34m\u001b[0m\n\u001b[1;32m      9\u001b[0m \u001b[0;32mimport\u001b[0m \u001b[0mtime\u001b[0m\u001b[0;34m\u001b[0m\u001b[0;34m\u001b[0m\u001b[0m\n\u001b[1;32m     10\u001b[0m \u001b[0;32mwhile\u001b[0m \u001b[0;32mTrue\u001b[0m\u001b[0;34m:\u001b[0m\u001b[0;34m\u001b[0m\u001b[0;34m\u001b[0m\u001b[0m\n\u001b[0;32m---> 11\u001b[0;31m     \u001b[0mtime\u001b[0m\u001b[0;34m.\u001b[0m\u001b[0msleep\u001b[0m\u001b[0;34m(\u001b[0m\u001b[0;36m1\u001b[0m\u001b[0;34m)\u001b[0m\u001b[0;34m\u001b[0m\u001b[0;34m\u001b[0m\u001b[0m\n\u001b[0m\u001b[1;32m     12\u001b[0m     \u001b[0mprint\u001b[0m\u001b[0;34m(\u001b[0m\u001b[0mcheck_output\u001b[0m\u001b[0;34m(\u001b[0m\u001b[0;34m[\u001b[0m\u001b[0;34m'tail'\u001b[0m\u001b[0;34m,\u001b[0m\u001b[0;34m'/tmp/ramdisk/live.csv'\u001b[0m\u001b[0;34m]\u001b[0m\u001b[0;34m)\u001b[0m\u001b[0;34m.\u001b[0m\u001b[0mdecode\u001b[0m\u001b[0;34m(\u001b[0m\u001b[0;34m\"utf-8\"\u001b[0m\u001b[0;34m)\u001b[0m\u001b[0;34m)\u001b[0m\u001b[0;34m\u001b[0m\u001b[0;34m\u001b[0m\u001b[0m\n",
      "\u001b[0;31mKeyboardInterrupt\u001b[0m: "
     ]
    }
   ],
   "source": [
    "# import subprocess\n",
    "# f = subprocess.Popen(['tail','-F','/tmp/ramdisk/live.csv'],\\\n",
    "#         stdout=subprocess.PIPE,stderr=subprocess.PIPE)\n",
    "# while True:\n",
    "#     line = f.stdout.readline()\n",
    "#     print(line)\n",
    "    \n",
    "from subprocess import check_output\n",
    "import time\n",
    "while True:\n",
    "    time.sleep(1)\n",
    "    print(check_output(['tail','/tmp/ramdisk/live.csv']).decode(\"utf-8\"))"
   ]
  },
  {
   "cell_type": "code",
   "execution_count": null,
   "metadata": {},
   "outputs": [],
   "source": []
  }
 ],
 "metadata": {
  "kernelspec": {
   "display_name": "Python 3",
   "language": "python",
   "name": "python3"
  },
  "language_info": {
   "codemirror_mode": {
    "name": "ipython",
    "version": 3
   },
   "file_extension": ".py",
   "mimetype": "text/x-python",
   "name": "python",
   "nbconvert_exporter": "python",
   "pygments_lexer": "ipython3",
   "version": "3.6.8"
  }
 },
 "nbformat": 4,
 "nbformat_minor": 2
}
